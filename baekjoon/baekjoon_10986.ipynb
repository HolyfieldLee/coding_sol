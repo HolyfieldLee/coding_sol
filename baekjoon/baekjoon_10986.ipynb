{
  "nbformat": 4,
  "nbformat_minor": 0,
  "metadata": {
    "colab": {
      "provenance": [],
      "machine_shape": "hm",
      "gpuType": "A100"
    },
    "kernelspec": {
      "name": "python3",
      "display_name": "Python 3"
    },
    "language_info": {
      "name": "python"
    },
    "accelerator": "GPU"
  },
  "cells": [
    {
      "cell_type": "markdown",
      "source": [
        "# 총 6단계로 풀면 된다.\n",
        "\n",
        "* 1. 모듈 불러오기\n",
        "* 2. 입력 받기\n",
        "* 3. 초기화\n",
        "* 4. 누적합 만들기(합 배열)\n",
        "* 5. 나머지 구해서 카운트 세기\n",
        "* 6. 나머지가 같은 것들끼리 짝짓기\n",
        "\n",
        "## 나머지가 같은 것들끼리 짝짓기 추가 설명\n",
        "\n",
        "이 부분은 조금 어려울 수도 있다. 어떤 구간 [i ~ j]의 합이 M으로 나누어 떨어지는지 보려면 다음 조건을 만족하면 돼~\n",
        "(A[i] + A[i+1] + ... + A[j]) % M == 0\n",
        "\n",
        "누적합의 아이디어는 A[i+1] + ... A[j] = S[j] - S[i] 잖아?\n",
        "\n",
        "우리가 진짜로 찾는 건 (S[j] - S[i]) % M 이잖아! 이건 언제 가능하냐면 <S[j] % M == S[i] % M>일 때야~ 즉 식을 전개하면 돼.\n",
        "\n",
        "그러면 나머지가 같은 애들끼리 짝짓기만 하면 되겠지!\n",
        "\n",
        "그러면 조합을 사용하면 돼! 확률과 통계 기억나지??\n",
        "n * (n - 1) / 2. 즉 nC2 하면 되는거야.\n",
        "\n",
        "그래서 answer = answer + C[i] * (C[i] - 1) // 2로 식을 쓴거야!"
      ],
      "metadata": {
        "id": "ImoYCiKD6Voc"
      }
    },
    {
      "cell_type": "markdown",
      "source": [
        "# ✅ Solve in 6 Steps:\n",
        "* 1. Import Modules\n",
        "Load any necessary Python modules (usually not needed unless using advanced features).\n",
        "\n",
        "* 2. Take Input\n",
        "Read N, M, and the array A.\n",
        "\n",
        "* 3. Initialization\n",
        "Set up prefix sum array S, remainder count array C, and answer = 0.\n",
        "\n",
        "* 4. Create Prefix Sum Array\n",
        "Build an array S such that S[i] = A[0] + A[1] + ... + A[i].\n",
        "\n",
        "* 5. Count Remainders\n",
        "For each prefix sum S[i], calculate S[i] % M and increase the count in array C.\n",
        "\n",
        "* 6. Pair Elements with the Same Remainder (Key Idea)\n",
        "This is the tricky part, so let me break it down for you:\n",
        "\n",
        "## 👉 Goal: We want to count how many subarrays have a sum divisible by M.\n",
        "\n",
        "In math terms, we want to find the number of subarrays [i ~ j] such that:\n",
        "(A[i] + A[i+1] + ... + A[j]) % M == 0\n",
        "\n",
        "Using the prefix sum idea:\n",
        "Let’s define S[k] as the sum from A[0] to A[k].\n",
        "\n",
        "Then the sum from A[i+1] to A[j] is:\n",
        "S[j] - S[i]\n",
        "\n",
        "So for the subarray sum to be divisible by M, we need:\n",
        "(S[j] - S[i]) % M == 0\n",
        "\n",
        "This implies:\n",
        "S[j] % M == S[i] % M\n",
        "\n",
        "💡 Key Insight:\n",
        "We’re looking for pairs of prefix sums that have the same remainder when divided by M.\n",
        "\n",
        "✔️ So what do we do?\n",
        "We count how many times each remainder (from 0 to M-1) occurs in the prefix sums.\n",
        "\n",
        "Let’s say remainder r appears n times.\n",
        "Then the number of ways to pick two different indices with the same remainder is:\n",
        "nC2 = n * (n - 1) / 2\n",
        "\n",
        "We apply this for each remainder and sum them all up.\n",
        "\n",
        "🧮 Bonus:\n",
        "Also, don’t forget to include the cases where S[i] % M == 0 directly — this means the prefix sum up to i is already divisible by M, so it forms a valid subarray starting from index 0."
      ],
      "metadata": {
        "id": "T5ID2ULA8uRg"
      }
    },
    {
      "cell_type": "code",
      "execution_count": null,
      "metadata": {
        "colab": {
          "base_uri": "https://localhost:8080/"
        },
        "id": "w6rswsfZ09qJ",
        "outputId": "f624cb15-3865-4778-a4c9-4f6af0b6bed5"
      },
      "outputs": [
        {
          "output_type": "stream",
          "name": "stdout",
          "text": [
            "5 3\n",
            "1 2 3 1 2\n",
            "7\n"
          ]
        }
      ],
      "source": [
        "# import sys\n",
        "# input = sys.stdin.readline\n",
        "n,m = map(int, input().split())\n",
        "A = list(map(int, input().split()))\n",
        "S = [0] * n # 합 배열\n",
        "C = [0] * m # 같은 나머지의 인덱스를 카운트하는 리스트\n",
        "S[0] = A[0]\n",
        "answer = 0\n",
        "\n",
        "for i in range(1,n):\n",
        "  S[i] = S[i-1] + A[i] # 합 배열 저장\n",
        "\n",
        "for i in range(n):\n",
        "  remainder = S[i] % m # 합 배열의 모든 값에 % 연산 수행\n",
        "  if remainder == 0:\n",
        "    answer = answer + 1\n",
        "  C[remainder] = C[remainder] + 1\n",
        "\n",
        "for i in range(m):\n",
        "  # 나머지가 같은 인덱스 중 2개를 뽑는 경우의 수를 더하기\n",
        "  if C[i] > 1:\n",
        "    answer = answer + (C[i] * (C[i] - 1) // 2)\n",
        "  # /연산을 하면 answer 변수가 float 형태가 되어 소수점까지 출력해 오답이 됩니다.\n",
        "  # // 연산을 사용해 주세요.\n",
        "print(answer)\n"
      ]
    },
    {
      "cell_type": "markdown",
      "source": [
        "# English"
      ],
      "metadata": {
        "id": "l2g9D3Ys9Il-"
      }
    },
    {
      "cell_type": "code",
      "source": [
        "# import sys\n",
        "# input = sys.stdin.readline\n",
        "n, m = map(int, input().split())\n",
        "A = list(map(int, input().split()))\n",
        "S = [0] * n  # Prefix sum array\n",
        "C = [0] * m  # List to count the number of indices with the same remainder\n",
        "S[0] = A[0]\n",
        "answer = 0\n",
        "\n",
        "for i in range(1, n):\n",
        "    S[i] = S[i - 1] + A[i]  # Store prefix sums\n",
        "\n",
        "for i in range(n):\n",
        "    remainder = S[i] % m  # Perform modulo operation on each prefix sum\n",
        "    if remainder == 0:\n",
        "        answer += 1  # If the prefix sum itself is divisible by m\n",
        "    C[remainder] += 1  # Count how many times each remainder occurs\n",
        "\n",
        "for i in range(m):\n",
        "    # Add the number of ways to choose 2 indices with the same remainder\n",
        "    if C[i] > 1:\n",
        "        answer += (C[i] * (C[i] - 1) // 2)\n",
        "    # Using '/' will make `answer` a float, which may cause a wrong answer due to decimal output.\n",
        "    # Use '//' for integer division instead.\n",
        "\n",
        "print(answer)\n"
      ],
      "metadata": {
        "id": "PCX20mjZ9EXj"
      },
      "execution_count": null,
      "outputs": []
    },
    {
      "cell_type": "code",
      "source": [
        "from google.colab import files\n",
        "files.download('baekjoon_10986.ipynb')"
      ],
      "metadata": {
        "colab": {
          "base_uri": "https://localhost:8080/",
          "height": 301
        },
        "id": "yJm-KvNn92CA",
        "outputId": "369f3b1e-0e6c-4520-b66f-81add84be84c"
      },
      "execution_count": null,
      "outputs": [
        {
          "output_type": "error",
          "ename": "FileNotFoundError",
          "evalue": "Cannot find file: baekjoon_10986.ipynb",
          "traceback": [
            "\u001b[0;31m---------------------------------------------------------------------------\u001b[0m",
            "\u001b[0;31mFileNotFoundError\u001b[0m                         Traceback (most recent call last)",
            "\u001b[0;32m/tmp/ipython-input-2-3012413253.py\u001b[0m in \u001b[0;36m<cell line: 0>\u001b[0;34m()\u001b[0m\n\u001b[1;32m      1\u001b[0m \u001b[0;32mfrom\u001b[0m \u001b[0mgoogle\u001b[0m\u001b[0;34m.\u001b[0m\u001b[0mcolab\u001b[0m \u001b[0;32mimport\u001b[0m \u001b[0mfiles\u001b[0m\u001b[0;34m\u001b[0m\u001b[0;34m\u001b[0m\u001b[0m\n\u001b[0;32m----> 2\u001b[0;31m \u001b[0mfiles\u001b[0m\u001b[0;34m.\u001b[0m\u001b[0mdownload\u001b[0m\u001b[0;34m(\u001b[0m\u001b[0;34m'baekjoon_10986.ipynb'\u001b[0m\u001b[0;34m)\u001b[0m\u001b[0;34m\u001b[0m\u001b[0;34m\u001b[0m\u001b[0m\n\u001b[0m",
            "\u001b[0;32m/usr/local/lib/python3.11/dist-packages/google/colab/files.py\u001b[0m in \u001b[0;36mdownload\u001b[0;34m(filename)\u001b[0m\n\u001b[1;32m    231\u001b[0m   \u001b[0;32mif\u001b[0m \u001b[0;32mnot\u001b[0m \u001b[0m_os\u001b[0m\u001b[0;34m.\u001b[0m\u001b[0mpath\u001b[0m\u001b[0;34m.\u001b[0m\u001b[0mexists\u001b[0m\u001b[0;34m(\u001b[0m\u001b[0mfilename\u001b[0m\u001b[0;34m)\u001b[0m\u001b[0;34m:\u001b[0m\u001b[0;34m\u001b[0m\u001b[0;34m\u001b[0m\u001b[0m\n\u001b[1;32m    232\u001b[0m     \u001b[0mmsg\u001b[0m \u001b[0;34m=\u001b[0m \u001b[0;34m'Cannot find file: {}'\u001b[0m\u001b[0;34m.\u001b[0m\u001b[0mformat\u001b[0m\u001b[0;34m(\u001b[0m\u001b[0mfilename\u001b[0m\u001b[0;34m)\u001b[0m\u001b[0;34m\u001b[0m\u001b[0;34m\u001b[0m\u001b[0m\n\u001b[0;32m--> 233\u001b[0;31m     \u001b[0;32mraise\u001b[0m \u001b[0mFileNotFoundError\u001b[0m\u001b[0;34m(\u001b[0m\u001b[0mmsg\u001b[0m\u001b[0;34m)\u001b[0m  \u001b[0;31m# pylint: disable=undefined-variable\u001b[0m\u001b[0;34m\u001b[0m\u001b[0;34m\u001b[0m\u001b[0m\n\u001b[0m\u001b[1;32m    234\u001b[0m \u001b[0;34m\u001b[0m\u001b[0m\n\u001b[1;32m    235\u001b[0m   \u001b[0mcomm_manager\u001b[0m \u001b[0;34m=\u001b[0m \u001b[0m_IPython\u001b[0m\u001b[0;34m.\u001b[0m\u001b[0mget_ipython\u001b[0m\u001b[0;34m(\u001b[0m\u001b[0;34m)\u001b[0m\u001b[0;34m.\u001b[0m\u001b[0mkernel\u001b[0m\u001b[0;34m.\u001b[0m\u001b[0mcomm_manager\u001b[0m\u001b[0;34m\u001b[0m\u001b[0;34m\u001b[0m\u001b[0m\n",
            "\u001b[0;31mFileNotFoundError\u001b[0m: Cannot find file: baekjoon_10986.ipynb"
          ]
        }
      ]
    }
  ]
}