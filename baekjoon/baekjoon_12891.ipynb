{
  "nbformat": 4,
  "nbformat_minor": 0,
  "metadata": {
    "colab": {
      "provenance": []
    },
    "kernelspec": {
      "name": "python3",
      "display_name": "Python 3"
    },
    "language_info": {
      "name": "python"
    }
  },
  "cells": [
    {
      "cell_type": "code",
      "execution_count": null,
      "metadata": {
        "colab": {
          "base_uri": "https://localhost:8080/"
        },
        "id": "QXFg20gc_aU_",
        "outputId": "240ae3f4-a52e-4d25-9a7a-77e88df4fa09"
      },
      "outputs": [
        {
          "output_type": "stream",
          "name": "stdout",
          "text": [
            "4 2\n",
            "GATA\n",
            "1 0 0 1\n",
            "2\n"
          ]
        }
      ],
      "source": [
        "checkList = [0] * 4\n",
        "myList = [0] * 4\n",
        "checkSecret = 0\n",
        "\n",
        "\n",
        "#\n",
        "def myadd(c):\n",
        "  global checkList, myList, checkSecret\n",
        "  if c == 'A':\n",
        "    myList[0] = myList[0] + 1\n",
        "    if myList[0] == checkList[0]:\n",
        "      checkSecret = checkSecret + 1\n",
        "\n",
        "  elif c == 'C':\n",
        "    myList[1] = myList[1] + 1\n",
        "    if myList[1] == checkList[1]:\n",
        "      checkSecret = checkSecret + 1\n",
        "  elif c == 'G':\n",
        "    myList[2] = myList[2] + 1\n",
        "    if myList[2] == checkList[2]:\n",
        "      checkSecret = checkSecret + 1\n",
        "  elif c == 'T':\n",
        "    myList[3] = myList[3] + 1\n",
        "    if myList[3] == checkList[3]:\n",
        "      checkSecret = checkSecret + 1\n",
        "\n",
        "def myremove(c):\n",
        "  global checkList, myList, checkSecret\n",
        "  if c == 'A':\n",
        "    if myList[0] == checkList[0]:\n",
        "      checkSecret = checkSecret - 1\n",
        "    myList[0] = myList[0] - 1\n",
        "  elif c == 'C':\n",
        "    if myList[1] == checkList[1]:\n",
        "      checkSecret = checkSecret - 1\n",
        "    myList[1] = myList[1] - 1\n",
        "  elif c == 'G':\n",
        "    if myList[2] == checkList[2]:\n",
        "      checkSecret = checkSecret - 1\n",
        "    myList[2] = myList[2] - 1\n",
        "  elif c == 'T':\n",
        "    if myList[3] == checkList[3]:\n",
        "      checkSecret = checkSecret - 1\n",
        "    myList[3] = myList[3] - 1\n",
        "\n",
        "S, P = map(int, input().split())\n",
        "Result = 0\n",
        "A = list(input())\n",
        "checkList = list(map(int, input().split()))\n",
        "\n",
        "for i in range(4):\n",
        "  if checkList[i] == 0:\n",
        "    checkSecret = checkSecret + 1\n",
        "\n",
        "for i in range(P):\n",
        "  myadd(A[i])\n",
        "  if checkSecret == 4:\n",
        "    Result = Result + 1\n",
        "\n",
        "for i in range(P,S):\n",
        "  j = i - P\n",
        "  myadd(A[i])\n",
        "  myremove(A[j])\n",
        "  if checkSecret == 4:\n",
        "    Result = Result + 1\n",
        "\n",
        "print(Result)"
      ]
    }
  ]
}