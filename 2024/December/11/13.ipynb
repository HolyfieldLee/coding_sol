{
 "cells": [
  {
   "cell_type": "markdown",
   "metadata": {},
   "source": [
    "# 백준 10807번"
   ]
  },
  {
   "cell_type": "code",
   "execution_count": null,
   "metadata": {
    "vscode": {
     "languageId": "plaintext"
    }
   },
   "outputs": [],
   "source": [
    "n = int(input())\n",
    "n_list = list(map(int, input().split()))\n",
    "v = int(input())\n",
    "\n",
    "print(n_list.count(v))"
   ]
  },
  {
   "cell_type": "markdown",
   "metadata": {},
   "source": [
    "# 백준 10871번"
   ]
  },
  {
   "cell_type": "code",
   "execution_count": null,
   "metadata": {
    "vscode": {
     "languageId": "plaintext"
    }
   },
   "outputs": [],
   "source": [
    "N, X = map(int, input().split())\n",
    "A = list(map(int, input().split()))\n",
    "for i in range(N):\n",
    "    if A[i] < X:\n",
    "        print(A[i], end=\" \")\n"
   ]
  },
  {
   "cell_type": "markdown",
   "metadata": {},
   "source": [
    "# 백준 10818번"
   ]
  },
  {
   "cell_type": "code",
   "execution_count": null,
   "metadata": {
    "vscode": {
     "languageId": "plaintext"
    }
   },
   "outputs": [],
   "source": [
    "cnt = int(input())\n",
    "numbers = list(map(int, input().split()))\n",
    "print(min(numbers),max(numbers))\n"
   ]
  },
  {
   "cell_type": "markdown",
   "metadata": {},
   "source": [
    "# 백준 2562번"
   ]
  },
  {
   "cell_type": "markdown",
   "metadata": {},
   "source": [
    "numbers = []\n",
    "for _ in range(9):\n",
    "    i = int(input())\n",
    "    numbers.append(i)\n",
    "    \n",
    "print(max(numbers))\n",
    "print(numbers.index(max(numbers))+1)\n"
   ]
  },
  {
   "cell_type": "markdown",
   "metadata": {},
   "source": [
    "# 백준 10810번"
   ]
  },
  {
   "cell_type": "code",
   "execution_count": null,
   "metadata": {
    "vscode": {
     "languageId": "plaintext"
    }
   },
   "outputs": [],
   "source": [
    "n, m=map(int, input().split())\n",
    "box = [0]*n\n",
    "\n",
    "for _ in range(m) :\n",
    "    i,j,k = map(int, input().split())\n",
    "    for idx in range(i, j+1):\n",
    "        box[idx-1] = k\n",
    "for i in range(n):\n",
    "    print(box[i], end=' ')\n"
   ]
  },
  {
   "cell_type": "markdown",
   "metadata": {},
   "source": [
    "# 백준 25206번"
   ]
  },
  {
   "cell_type": "code",
   "execution_count": null,
   "metadata": {
    "vscode": {
     "languageId": "plaintext"
    }
   },
   "outputs": [],
   "source": [
    "rating = ['A+', 'A0', 'B+', 'B0', 'C+', 'C0', 'D+', 'D0', 'F']\n",
    "grade = [4.5, 4.0, 3.5, 3.0, 2.5, 2.0, 1.5, 1.0, 0]\n",
    "\n",
    "total = 0\t# 학점 총합을 담을 변수\n",
    "result = 0\t# (학점 * 과목평점) 총합을 담을 변수\n",
    "for _ in range(20) :\n",
    "    s, p, g = input().split()\n",
    "    p = float(p)\n",
    "    if g != 'P' :\t# 등급이 P인 과목은 계산 안함\n",
    "        total += p\n",
    "        result += p * grade[rating.index(g)]\n",
    "\n",
    "print('%.6f' % (result / total))\n",
    "                    \n",
    "        \n",
    "  \n",
    "\n",
    "    \n"
   ]
  },
  {
   "cell_type": "code",
   "execution_count": null,
   "metadata": {
    "vscode": {
     "languageId": "plaintext"
    }
   },
   "outputs": [],
   "source": []
  }
 ],
 "metadata": {
  "language_info": {
   "name": "python"
  }
 },
 "nbformat": 4,
 "nbformat_minor": 2
}
