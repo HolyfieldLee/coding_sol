{
 "cells": [
  {
   "cell_type": "markdown",
   "metadata": {},
   "source": [
    "# 백준 1934번.\n",
    "\n",
    "---\n",
    "두 개의 자연수의 최소공배수 구하기는 다음과 같은 지식이 있어야 한다. \n",
    "```\n",
    "(두 수의 곱을 최대공약수로 나눈 것)\n",
    "```\n",
    "그래서 print(aa * bb // b) 로 마무리 된 것. 그 이전의 코드들은 최대공약수를 구하는 과정이였다.\n",
    "\n",
    "---\n"
   ]
  },
  {
   "cell_type": "code",
   "execution_count": null,
   "metadata": {
    "vscode": {
     "languageId": "plaintext"
    }
   },
   "outputs": [],
   "source": [
    "T = int(input())\n",
    "for i in range(T):\n",
    "    a,b = map(int, input().split())\n",
    "    aa, bb = a, b\n",
    "    while a % b != 0:\n",
    "        a, b = b, a%b\n",
    "    print(aa * bb // b)"
   ]
  },
  {
   "cell_type": "markdown",
   "metadata": {},
   "source": [
    "# 백준 2798번\n",
    "\n",
    "---\n",
    "\n",
    "처음에 접근하기 정말 어려웠다. 하지만 continue를 발상해서 기준값을 넘을 때 걸리도록 장치를 달아주면 생각보다 쉽게 접근할 수 있는 문제였다. 기준값에 가장 가까운 값은 여러 개의 경우의 수를 모두 따져가면서 빈 리스트에 담아 두었다가 max 내장함수를 사용해서 가장 큰 값만 골라내면 문제풀이가 완료된다!\n",
    "\n",
    "```\n",
    "세 개의 합을 구해야 하는데 모든 경우의 수를 따져가며 풀었던 문제이다. 따라서 for문도 3개 사용.브루트 포스 기법이다!\n",
    "```\n",
    "\n",
    "---\n",
    "\n"
   ]
  },
  {
   "cell_type": "code",
   "execution_count": null,
   "metadata": {
    "vscode": {
     "languageId": "plaintext"
    }
   },
   "outputs": [],
   "source": [
    "# 너무 좋은 문제! 기준값을 넘을 때는 continue를 사용! 그렇지만 넘지 않는 선에서는\n",
    "# 리스트 안에다가 전부 결과값을 넣어두고 그 중에서 MAX를 뽑는 알고리즘!\n",
    "N, M = map(int, input().split())\n",
    "lst = list(map(int, input().split()))\n",
    "\n",
    "nlst = []\n",
    "for i in range(N):\n",
    "    for j in range(i+1 ,N):\n",
    "        for k in range(j + 1, N):\n",
    "            three = lst[i] + lst[j] + lst[k]\n",
    "            if three > M:\n",
    "                continue\n",
    "            else:\n",
    "                nlst.append(three)\n",
    "print(max(nlst))"
   ]
  },
  {
   "cell_type": "markdown",
   "metadata": {},
   "source": [
    "# 백준 2231번\n",
    "\n",
    "---\n",
    "각 자리수를 인덱싱처럼 접근해서 건드려야 한다. 그래서 변수 = str(i)를 사용했다. 그래서 for문 안에 for문의 변수 i와 각 자리수들의 합을 더해보면 된다.\n",
    "\n",
    "```\n",
    "sum(map(int, 변수)) 이거 나도 하다가 처음 배웠다. 꼭 기억해두자!\n",
    "```\n",
    "\n",
    "마지막으로 if 조건문에 걸린 것을 result 변수에 담아주면 끝!\n",
    "\n",
    "---\n",
    "\n"
   ]
  },
  {
   "cell_type": "code",
   "execution_count": null,
   "metadata": {
    "vscode": {
     "languageId": "plaintext"
    }
   },
   "outputs": [],
   "source": [
    "n = int(input())\n",
    "result = 0\n",
    "\n",
    "for i in range(1,n+1):\n",
    "    iop = str(i)\n",
    "    num_sum = i + sum(map(int, iop))\n",
    "    \n",
    "    if num_sum == n:\n",
    "        result = i\n",
    "        break\n",
    "print(result)"
   ]
  },
  {
   "cell_type": "markdown",
   "metadata": {},
   "source": [
    "# 백준 19532번\n",
    "\n",
    "---\n",
    "\n",
    "파이썬으로 방정식을 풀어본 것은 처음이였다. 해의 범위(-999~999)와 해가 될 변수를 어떻게 선언할 지에서 많은 고민을 했었다. for문의 변수 i,j로 미지수를 표현할 수 있고 range로 해의 범위를 표현할 수 있는 것을 발상하면 어렵지 않게 풀 수 있는 문제!\n",
    "\n",
    "\n",
    "---"
   ]
  },
  {
   "cell_type": "code",
   "execution_count": null,
   "metadata": {
    "vscode": {
     "languageId": "plaintext"
    }
   },
   "outputs": [],
   "source": [
    "a,b,c,d,e,f = map(int, input().split())\n",
    "\n",
    "for i in range(-999, 1000):\n",
    "    for j in range(-999,1000):\n",
    "        if (a*i) + (b*j) == c and (d*i) + (e*j) == f:\n",
    "            print(i,j)"
   ]
  }
 ],
 "metadata": {
  "language_info": {
   "name": "python"
  }
 },
 "nbformat": 4,
 "nbformat_minor": 2
}
